{
 "cells": [
  {
   "cell_type": "markdown",
   "metadata": {
    "colab_type": "text",
    "id": "view-in-github"
   },
   "source": [
    "<a href=\"https://colab.research.google.com/github/patil-suraj/question_generation/blob/master/question_generation.ipynb\" target=\"_parent\"><img src=\"https://colab.research.google.com/assets/colab-badge.svg\" alt=\"Open In Colab\"/></a>"
   ]
  },
  {
   "cell_type": "markdown",
   "metadata": {
    "colab_type": "text",
    "id": "LBKGoeg9KM5k"
   },
   "source": []
  },
  {
   "cell_type": "code",
   "execution_count": null,
   "metadata": {
    "colab": {
     "base_uri": "https://localhost:8080/",
     "height": 360
    },
    "colab_type": "code",
    "id": "aweZgxXBDsOQ",
    "outputId": "c3641129-bfd7-4176-b5ea-43d06f398884"
   },
   "outputs": [
    {
     "name": "stdout",
     "output_type": "stream",
     "text": [
      "Requirement already up-to-date: transformers==3.0.0 in /usr/local/lib/python3.6/dist-packages (3.0.0)\n",
      "Requirement already satisfied, skipping upgrade: requests in /usr/local/lib/python3.6/dist-packages (from transformers==3.0.0) (2.23.0)\n",
      "Requirement already satisfied, skipping upgrade: tokenizers==0.8.0-rc4 in /usr/local/lib/python3.6/dist-packages (from transformers==3.0.0) (0.8.0rc4)\n",
      "Requirement already satisfied, skipping upgrade: filelock in /usr/local/lib/python3.6/dist-packages (from transformers==3.0.0) (3.0.12)\n",
      "Requirement already satisfied, skipping upgrade: numpy in /usr/local/lib/python3.6/dist-packages (from transformers==3.0.0) (1.18.5)\n",
      "Requirement already satisfied, skipping upgrade: regex!=2019.12.17 in /usr/local/lib/python3.6/dist-packages (from transformers==3.0.0) (2019.12.20)\n",
      "Requirement already satisfied, skipping upgrade: dataclasses; python_version < \"3.7\" in /usr/local/lib/python3.6/dist-packages (from transformers==3.0.0) (0.7)\n",
      "Requirement already satisfied, skipping upgrade: packaging in /usr/local/lib/python3.6/dist-packages (from transformers==3.0.0) (20.4)\n",
      "Requirement already satisfied, skipping upgrade: tqdm>=4.27 in /usr/local/lib/python3.6/dist-packages (from transformers==3.0.0) (4.41.1)\n",
      "Requirement already satisfied, skipping upgrade: sacremoses in /usr/local/lib/python3.6/dist-packages (from transformers==3.0.0) (0.0.43)\n",
      "Requirement already satisfied, skipping upgrade: sentencepiece in /usr/local/lib/python3.6/dist-packages (from transformers==3.0.0) (0.1.91)\n",
      "Requirement already satisfied, skipping upgrade: idna<3,>=2.5 in /usr/local/lib/python3.6/dist-packages (from requests->transformers==3.0.0) (2.10)\n",
      "Requirement already satisfied, skipping upgrade: certifi>=2017.4.17 in /usr/local/lib/python3.6/dist-packages (from requests->transformers==3.0.0) (2020.6.20)\n",
      "Requirement already satisfied, skipping upgrade: chardet<4,>=3.0.2 in /usr/local/lib/python3.6/dist-packages (from requests->transformers==3.0.0) (3.0.4)\n",
      "Requirement already satisfied, skipping upgrade: urllib3!=1.25.0,!=1.25.1,<1.26,>=1.21.1 in /usr/local/lib/python3.6/dist-packages (from requests->transformers==3.0.0) (1.24.3)\n",
      "Requirement already satisfied, skipping upgrade: pyparsing>=2.0.2 in /usr/local/lib/python3.6/dist-packages (from packaging->transformers==3.0.0) (2.4.7)\n",
      "Requirement already satisfied, skipping upgrade: six in /usr/local/lib/python3.6/dist-packages (from packaging->transformers==3.0.0) (1.15.0)\n",
      "Requirement already satisfied, skipping upgrade: click in /usr/local/lib/python3.6/dist-packages (from sacremoses->transformers==3.0.0) (7.1.2)\n",
      "Requirement already satisfied, skipping upgrade: joblib in /usr/local/lib/python3.6/dist-packages (from sacremoses->transformers==3.0.0) (0.16.0)\n"
     ]
    }
   ],
   "source": [
    "!pip install -U transformers==3.0.0"
   ]
  },
  {
   "cell_type": "code",
   "execution_count": null,
   "metadata": {
    "colab": {
     "base_uri": "https://localhost:8080/",
     "height": 105
    },
    "colab_type": "code",
    "id": "4FARi6xuQ4IZ",
    "outputId": "569771df-a1b7-4699-dab8-f52e68051413"
   },
   "outputs": [
    {
     "name": "stdout",
     "output_type": "stream",
     "text": [
      "/usr/lib/python3.6/runpy.py:125: RuntimeWarning: 'nltk.downloader' found in sys.modules after import of package 'nltk', but prior to execution of 'nltk.downloader'; this may result in unpredictable behaviour\n",
      "  warn(RuntimeWarning(msg))\n",
      "[nltk_data] Downloading package punkt to /root/nltk_data...\n",
      "[nltk_data]   Package punkt is already up-to-date!\n"
     ]
    }
   ],
   "source": [
    "!python -m nltk.downloader punkt"
   ]
  },
  {
   "cell_type": "code",
   "execution_count": null,
   "metadata": {
    "colab": {
     "base_uri": "https://localhost:8080/",
     "height": 326
    },
    "colab_type": "code",
    "id": "iMjtG0q-Ws9B",
    "outputId": "a9d24ce8-dbca-4016-de9b-c486e121f6a0"
   },
   "outputs": [
    {
     "name": "stdout",
     "output_type": "stream",
     "text": [
      "Requirement already satisfied: nlp in /usr/local/lib/python3.6/dist-packages (0.4.0)\n",
      "Requirement already satisfied: requests>=2.19.0 in /usr/local/lib/python3.6/dist-packages (from nlp) (2.23.0)\n",
      "Requirement already satisfied: pyarrow>=0.16.0 in /usr/local/lib/python3.6/dist-packages (from nlp) (1.0.0)\n",
      "Requirement already satisfied: dill in /usr/local/lib/python3.6/dist-packages (from nlp) (0.3.2)\n",
      "Requirement already satisfied: xxhash in /usr/local/lib/python3.6/dist-packages (from nlp) (2.0.0)\n",
      "Requirement already satisfied: dataclasses; python_version < \"3.7\" in /usr/local/lib/python3.6/dist-packages (from nlp) (0.7)\n",
      "Requirement already satisfied: pandas in /usr/local/lib/python3.6/dist-packages (from nlp) (1.0.5)\n",
      "Requirement already satisfied: filelock in /usr/local/lib/python3.6/dist-packages (from nlp) (3.0.12)\n",
      "Requirement already satisfied: tqdm>=4.27 in /usr/local/lib/python3.6/dist-packages (from nlp) (4.41.1)\n",
      "Requirement already satisfied: numpy in /usr/local/lib/python3.6/dist-packages (from nlp) (1.18.5)\n",
      "Requirement already satisfied: chardet<4,>=3.0.2 in /usr/local/lib/python3.6/dist-packages (from requests>=2.19.0->nlp) (3.0.4)\n",
      "Requirement already satisfied: certifi>=2017.4.17 in /usr/local/lib/python3.6/dist-packages (from requests>=2.19.0->nlp) (2020.6.20)\n",
      "Requirement already satisfied: urllib3!=1.25.0,!=1.25.1,<1.26,>=1.21.1 in /usr/local/lib/python3.6/dist-packages (from requests>=2.19.0->nlp) (1.24.3)\n",
      "Requirement already satisfied: idna<3,>=2.5 in /usr/local/lib/python3.6/dist-packages (from requests>=2.19.0->nlp) (2.10)\n",
      "Requirement already satisfied: python-dateutil>=2.6.1 in /usr/local/lib/python3.6/dist-packages (from pandas->nlp) (2.8.1)\n",
      "Requirement already satisfied: pytz>=2017.2 in /usr/local/lib/python3.6/dist-packages (from pandas->nlp) (2018.9)\n",
      "Requirement already satisfied: six>=1.5 in /usr/local/lib/python3.6/dist-packages (from python-dateutil>=2.6.1->pandas->nlp) (1.15.0)\n"
     ]
    }
   ],
   "source": [
    "!pip3 install nlp"
   ]
  },
  {
   "cell_type": "code",
   "execution_count": null,
   "metadata": {
    "colab": {
     "base_uri": "https://localhost:8080/",
     "height": 615
    },
    "colab_type": "code",
    "id": "kvV3hytU59ab",
    "outputId": "03fc816c-cb38-45b4-f780-d7abdc2d7b78"
   },
   "outputs": [
    {
     "name": "stdout",
     "output_type": "stream",
     "text": [
      "Collecting git+https://github.com/Maluuba/nlg-eval.git@master\n",
      "  Cloning https://github.com/Maluuba/nlg-eval.git (to revision master) to /tmp/pip-req-build-f7gz4_d0\n",
      "  Running command git clone -q https://github.com/Maluuba/nlg-eval.git /tmp/pip-req-build-f7gz4_d0\n",
      "Requirement already satisfied (use --upgrade to upgrade): nlg-eval==2.3 from git+https://github.com/Maluuba/nlg-eval.git@master in /usr/local/lib/python3.6/dist-packages\n",
      "Requirement already satisfied: click>=6.3 in /usr/local/lib/python3.6/dist-packages (from nlg-eval==2.3) (7.1.2)\n",
      "Requirement already satisfied: nltk>=3.1 in /usr/local/lib/python3.6/dist-packages (from nlg-eval==2.3) (3.2.5)\n",
      "Requirement already satisfied: numpy>=1.11.0 in /usr/local/lib/python3.6/dist-packages (from nlg-eval==2.3) (1.18.5)\n",
      "Requirement already satisfied: psutil>=5.6.2 in /usr/local/lib/python3.6/dist-packages (from nlg-eval==2.3) (5.7.2)\n",
      "Requirement already satisfied: requests>=2.19 in /usr/local/lib/python3.6/dist-packages (from nlg-eval==2.3) (2.23.0)\n",
      "Requirement already satisfied: six>=1.11 in /usr/local/lib/python3.6/dist-packages (from nlg-eval==2.3) (1.15.0)\n",
      "Requirement already satisfied: scipy>=0.17.0 in /usr/local/lib/python3.6/dist-packages (from nlg-eval==2.3) (1.4.1)\n",
      "Requirement already satisfied: scikit-learn>=0.17 in /usr/local/lib/python3.6/dist-packages (from nlg-eval==2.3) (0.22.2.post1)\n",
      "Requirement already satisfied: gensim>=3 in /usr/local/lib/python3.6/dist-packages (from nlg-eval==2.3) (3.6.0)\n",
      "Requirement already satisfied: Theano>=0.8.1 in /usr/local/lib/python3.6/dist-packages (from nlg-eval==2.3) (1.0.5)\n",
      "Requirement already satisfied: tqdm>=4.24 in /usr/local/lib/python3.6/dist-packages (from nlg-eval==2.3) (4.41.1)\n",
      "Requirement already satisfied: xdg in /usr/local/lib/python3.6/dist-packages (from nlg-eval==2.3) (4.0.1)\n",
      "Requirement already satisfied: chardet<4,>=3.0.2 in /usr/local/lib/python3.6/dist-packages (from requests>=2.19->nlg-eval==2.3) (3.0.4)\n",
      "Requirement already satisfied: idna<3,>=2.5 in /usr/local/lib/python3.6/dist-packages (from requests>=2.19->nlg-eval==2.3) (2.10)\n",
      "Requirement already satisfied: urllib3!=1.25.0,!=1.25.1,<1.26,>=1.21.1 in /usr/local/lib/python3.6/dist-packages (from requests>=2.19->nlg-eval==2.3) (1.24.3)\n",
      "Requirement already satisfied: certifi>=2017.4.17 in /usr/local/lib/python3.6/dist-packages (from requests>=2.19->nlg-eval==2.3) (2020.6.20)\n",
      "Requirement already satisfied: joblib>=0.11 in /usr/local/lib/python3.6/dist-packages (from scikit-learn>=0.17->nlg-eval==2.3) (0.16.0)\n",
      "Requirement already satisfied: smart-open>=1.2.1 in /usr/local/lib/python3.6/dist-packages (from gensim>=3->nlg-eval==2.3) (2.1.0)\n",
      "Requirement already satisfied: boto3 in /usr/local/lib/python3.6/dist-packages (from smart-open>=1.2.1->gensim>=3->nlg-eval==2.3) (1.14.37)\n",
      "Requirement already satisfied: boto in /usr/local/lib/python3.6/dist-packages (from smart-open>=1.2.1->gensim>=3->nlg-eval==2.3) (2.49.0)\n",
      "Requirement already satisfied: s3transfer<0.4.0,>=0.3.0 in /usr/local/lib/python3.6/dist-packages (from boto3->smart-open>=1.2.1->gensim>=3->nlg-eval==2.3) (0.3.3)\n",
      "Requirement already satisfied: botocore<1.18.0,>=1.17.37 in /usr/local/lib/python3.6/dist-packages (from boto3->smart-open>=1.2.1->gensim>=3->nlg-eval==2.3) (1.17.37)\n",
      "Requirement already satisfied: jmespath<1.0.0,>=0.7.1 in /usr/local/lib/python3.6/dist-packages (from boto3->smart-open>=1.2.1->gensim>=3->nlg-eval==2.3) (0.10.0)\n",
      "Requirement already satisfied: docutils<0.16,>=0.10 in /usr/local/lib/python3.6/dist-packages (from botocore<1.18.0,>=1.17.37->boto3->smart-open>=1.2.1->gensim>=3->nlg-eval==2.3) (0.15.2)\n",
      "Requirement already satisfied: python-dateutil<3.0.0,>=2.1 in /usr/local/lib/python3.6/dist-packages (from botocore<1.18.0,>=1.17.37->boto3->smart-open>=1.2.1->gensim>=3->nlg-eval==2.3) (2.8.1)\n",
      "Building wheels for collected packages: nlg-eval\n",
      "  Building wheel for nlg-eval (setup.py) ... \u001b[?25l\u001b[?25hdone\n",
      "  Created wheel for nlg-eval: filename=nlg_eval-2.3-cp36-none-any.whl size=68175138 sha256=5c2f4859d104a6170797a91c7fbfa070f1d256ad6ee817abb6b7680a20cbfc43\n",
      "  Stored in directory: /tmp/pip-ephem-wheel-cache-ziur56iu/wheels/a5/7c/fd/f312beca2adcc3f49cb40570730658dad37bb5709f5d237a56\n",
      "Successfully built nlg-eval\n"
     ]
    }
   ],
   "source": [
    "!pip3 install git+https://github.com/Maluuba/nlg-eval.git@master\n"
   ]
  },
  {
   "cell_type": "code",
   "execution_count": null,
   "metadata": {
    "colab": {
     "base_uri": "https://localhost:8080/",
     "height": 139
    },
    "colab_type": "code",
    "id": "MRHG89D_6RPm",
    "outputId": "ba669777-a276-4e58-c458-6f24ddb80032"
   },
   "outputs": [
    {
     "name": "stdout",
     "output_type": "stream",
     "text": [
      "[nltk_data] Downloading package punkt to /root/nltk_data...\n",
      "[nltk_data]   Package punkt is already up-to-date!\n",
      "\u001b[31mInstalling to /root/.cache/nlgeval\u001b[0m\n",
      "\u001b[31mIn case of incomplete downloads, delete the directory and run `nlg-eval --setup /root/.cache/nlgeval' again.\u001b[0m\n",
      "Downloading https://raw.githubusercontent.com/robmsmt/glove-gensim/4c2224bccd61627b76c50a5e1d6afd1c82699d22/glove2word2vec.py to /usr/local/lib/python3.6/dist-packages/nlgeval/word2vec.\n",
      "glove2word2vec.py: 100% 1.00/1.00 [00:00<00:00, 531 chunks/s]\n"
     ]
    }
   ],
   "source": [
    "!nlg-eval --setup"
   ]
  },
  {
   "cell_type": "code",
   "execution_count": null,
   "metadata": {
    "colab": {
     "base_uri": "https://localhost:8080/",
     "height": 54
    },
    "colab_type": "code",
    "id": "-vXCbg-5ImHI",
    "outputId": "16d47f27-a8bb-4862-e4af-32d96c816907"
   },
   "outputs": [
    {
     "name": "stdout",
     "output_type": "stream",
     "text": [
      "Drive already mounted at /content/drive; to attempt to forcibly remount, call drive.mount(\"/content/drive\", force_remount=True).\n"
     ]
    }
   ],
   "source": [
    "from google.colab import drive\n",
    "drive.mount('/content/drive')"
   ]
  },
  {
   "cell_type": "code",
   "execution_count": null,
   "metadata": {
    "colab": {
     "base_uri": "https://localhost:8080/",
     "height": 34
    },
    "colab_type": "code",
    "id": "oy_T1CiVVNuH",
    "outputId": "8764cd48-888b-4f11-9882-6ac2b28b135d"
   },
   "outputs": [
    {
     "name": "stdout",
     "output_type": "stream",
     "text": [
      "/content/drive/My Drive/question_generation/question_generation\n"
     ]
    }
   ],
   "source": [
    "%cd drive/My\\ Drive/question_generation/question_generation/"
   ]
  },
  {
   "cell_type": "code",
   "execution_count": null,
   "metadata": {
    "colab": {
     "base_uri": "https://localhost:8080/",
     "height": 204
    },
    "colab_type": "code",
    "id": "iUcNtTKyIjK3",
    "outputId": "8906126d-0185-4b55-e7c0-f685f06c2b58"
   },
   "outputs": [
    {
     "name": "stdout",
     "output_type": "stream",
     "text": [
      "\u001b[0m\u001b[01;34mdata\u001b[0m/                            README.md\n",
      "data_collator.py                 run_qg.py\n",
      "eval.py                          \u001b[01;34mruns\u001b[0m/\n",
      "hypothesis_t5-base-qg-hl_tw.txt  \u001b[01;34mt5_qg_tokenizer\u001b[0m/\n",
      "hypothesis_t5-base-qg-hl.txt     \u001b[01;34mt5-small-qg-hl\u001b[0m/\n",
      "LICENSE                          \u001b[01;34mt5-small-qg-hl-15\u001b[0m/\n",
      "\u001b[01;34mnotebooks\u001b[0m/                       \u001b[01;34mt5-small-qg-hl-15-log\u001b[0m/\n",
      "pipelines.py                     \u001b[01;34mt5-small-qg-hl-15-old\u001b[0m/\n",
      "prepare_data.py                  trainer.py\n",
      "\u001b[01;34m__pycache__\u001b[0m/                     \u001b[01;34mtweetqadata\u001b[0m/\n",
      "question_generation.ipynb        utils.py\n"
     ]
    }
   ],
   "source": [
    "ls"
   ]
  },
  {
   "cell_type": "code",
   "execution_count": null,
   "metadata": {
    "colab": {},
    "colab_type": "code",
    "id": "6Okz9rhOWhiP"
   },
   "outputs": [],
   "source": [
    "# Prepare TweetQA data \n",
    "!python3 prepare_data.py --task qg --model_type t5 --dataset_path data/tweet_multitask --qg_format highlight_qg_format --max_source_length 512 --max_target_length 32 --train_file_name train_data_qg_hl_t5_tweet_automatic.pt  --valid_file_name valid_data_qg_hl_t5_tweet_automatic.pt"
   ]
  },
  {
   "cell_type": "code",
   "execution_count": null,
   "metadata": {
    "colab": {},
    "colab_type": "code",
    "id": "yoRJR-uEg4Wu"
   },
   "outputs": [],
   "source": [
    "%%capture loggingfine\n",
    "!python3 run_qg.py \\\n",
    "    --model_name_or_path t5-small \\\n",
    "    --model_type t5 \\\n",
    "    --tokenizer_name_or_path t5_qg_tokenizer \\\n",
    "    --output_dir t5-small-qg-hl-15 \\\n",
    "    --train_file_path data/train_data_qg_hl_t5_tweet_automatic.pt \\\n",
    "    --valid_file_path data/valid_data_qg_hl_t5_tweet_automatic.pt \\\n",
    "    --per_device_train_batch_size 16 \\\n",
    "    --per_device_eval_batch_size 16 \\\n",
    "    --gradient_accumulation_steps 8 \\\n",
    "    --learning_rate 1e-4 \\\n",
    "    --num_train_epochs 15 \\\n",
    "    --seed 42 \\\n",
    "    --do_train \\\n",
    "    --do_eval \\\n",
    "    --evaluate_during_training \\\n",
    "    --logging_steps 100\\\n",
    "    --logging_dir t5-small-qg-hl-15-log\\\n",
    "    --overwrite_output_dir"
   ]
  },
  {
   "cell_type": "code",
   "execution_count": null,
   "metadata": {
    "colab": {},
    "colab_type": "code",
    "id": "2ObsXDiNhM-M"
   },
   "outputs": [],
   "source": [
    "# original with 2 epochs of training\n",
    "#!python3 run_qg.py \\\n",
    "#    --model_name_or_path t5-small \\\n",
    "#    --model_type t5 \\\n",
    "#    --tokenizer_name_or_path t5_qg_tokenizer \\\n",
    "#    --output_dir t5-small-qg-hl \\\n",
    "#    --train_file_path data/train_data_qg_hl_t5.pt \\\n",
    "#    --valid_file_path data/valid_data_qg_hl_t5.pt \\\n",
    "#    --per_device_train_batch_size 16 \\\n",
    "#    --per_device_eval_batch_size 16 \\\n",
    "#    --gradient_accumulation_steps 8 \\\n",
    "#    --learning_rate 1e-4 \\\n",
    "#    --num_train_epochs 2 \\\n",
    "#    --seed 42 \\\n",
    "#    --do_train \\\n",
    "#    --do_eval \\\n",
    "#    --evaluate_during_training \\\n",
    "#    --logging_steps 100"
   ]
  },
  {
   "cell_type": "code",
   "execution_count": null,
   "metadata": {
    "colab": {
     "base_uri": "https://localhost:8080/",
     "height": 105
    },
    "colab_type": "code",
    "id": "7iT75t1yiSzG",
    "outputId": "21ee4b90-44a5-4caf-afc5-28e22ce267b2"
   },
   "outputs": [
    {
     "name": "stdout",
     "output_type": "stream",
     "text": [
      "2020-08-15 18:11:08.579510: I tensorflow/stream_executor/platform/default/dso_loader.cc:48] Successfully opened dynamic library libcudart.so.10.1\n",
      "  0% 0/34 [00:00<?, ?it/s]/usr/local/lib/python3.6/dist-packages/nlp/utils/py_utils.py:191: UserWarning: The given NumPy array is not writeable, and PyTorch does not support non-writeable tensors. This means you can write to the underlying (supposedly non-writeable) NumPy array using the tensor. You may want to copy the array to protect its data or make it writeable before converting it to a tensor. This type of warning will be suppressed for the rest of this program. (Triggered internally at  /pytorch/torch/csrc/utils/tensor_numpy.cpp:141.)\n",
      "  return function(data_struct)\n",
      "100% 34/34 [00:38<00:00,  1.14s/it]\n"
     ]
    }
   ],
   "source": [
    "#using originally pretrained model valhalla\n",
    "!python eval.py \\\n",
    "    --model_name_or_path  valhalla/t5-small-qa-qg-hl \\\n",
    "    --valid_file_path data/valid_data_qg_hl_t5_tweet_automatic.pt \\\n",
    "    --model_type t5 \\\n",
    "    --num_beams 4 \\\n",
    "    --max_decoding_length 32 \\\n",
    "    --output_path hypothesis_t5-base-qg-hl_tweet_atomatic_valhalla_model.txt"
   ]
  },
  {
   "cell_type": "code",
   "execution_count": null,
   "metadata": {
    "colab": {
     "base_uri": "https://localhost:8080/",
     "height": 105
    },
    "colab_type": "code",
    "id": "YAxIlP2JTYSp",
    "outputId": "adb55c03-425a-434a-bc76-de39adf87702"
   },
   "outputs": [
    {
     "name": "stdout",
     "output_type": "stream",
     "text": [
      "2020-08-15 18:09:09.211005: I tensorflow/stream_executor/platform/default/dso_loader.cc:48] Successfully opened dynamic library libcudart.so.10.1\n",
      "  0% 0/34 [00:00<?, ?it/s]/usr/local/lib/python3.6/dist-packages/nlp/utils/py_utils.py:191: UserWarning: The given NumPy array is not writeable, and PyTorch does not support non-writeable tensors. This means you can write to the underlying (supposedly non-writeable) NumPy array using the tensor. You may want to copy the array to protect its data or make it writeable before converting it to a tensor. This type of warning will be suppressed for the rest of this program. (Triggered internally at  /pytorch/torch/csrc/utils/tensor_numpy.cpp:141.)\n",
      "  return function(data_struct)\n",
      "100% 34/34 [00:35<00:00,  1.05s/it]\n"
     ]
    }
   ],
   "source": [
    "#using finetuned  model with 15 epochs\n",
    "!python eval.py \\\n",
    "    --model_name_or_path  t5-small-qg-hl-15-old \\\n",
    "    --valid_file_path data/valid_data_qg_hl_t5_tweet_automatic.pt \\\n",
    "    --model_type t5 \\\n",
    "    --num_beams 4 \\\n",
    "    --max_decoding_length 32 \\\n",
    "    --output_path hypothesis_t5-base-qg-hl_t5_tweet_automatic.txt"
   ]
  },
  {
   "cell_type": "code",
   "execution_count": 21,
   "metadata": {
    "colab": {
     "base_uri": "https://localhost:8080/",
     "height": 170
    },
    "colab_type": "code",
    "id": "r8cysPM6hrI6",
    "outputId": "e6dccc8d-8e32-49cb-a3bd-535852c72002"
   },
   "outputs": [
    {
     "name": "stdout",
     "output_type": "stream",
     "text": [
      "\u001b[32mUsing data from /root/.cache/nlgeval\u001b[0m\n",
      "\u001b[32mIn case of broken downloads, remove the directory and run setup again.\u001b[0m\n",
      "Bleu_1: 0.166936\n",
      "Bleu_2: 0.102170\n",
      "Bleu_3: 0.069558\n",
      "Bleu_4: 0.048868\n",
      "METEOR: 0.198409\n",
      "ROUGE_L: 0.179716\n",
      "CIDEr: 0.549717\n"
     ]
    }
   ],
   "source": [
    "#evaluate valhalla model\n",
    "!nlg-eval --hypothesis=hypothesis_t5-base-qg-hl_tweet_atomatic_valhalla_model.txt --references=data/tweet_dev_automatic_reference.txt --no-skipthoughts --no-glove "
   ]
  },
  {
   "cell_type": "code",
   "execution_count": 20,
   "metadata": {
    "colab": {
     "base_uri": "https://localhost:8080/",
     "height": 170
    },
    "colab_type": "code",
    "id": "jp6-PavPUZf5",
    "outputId": "7299341e-658f-4352-8044-171d5c5bd53a"
   },
   "outputs": [
    {
     "name": "stdout",
     "output_type": "stream",
     "text": [
      "\u001b[32mUsing data from /root/.cache/nlgeval\u001b[0m\n",
      "\u001b[32mIn case of broken downloads, remove the directory and run setup again.\u001b[0m\n",
      "Bleu_1: 0.323073\n",
      "Bleu_2: 0.221209\n",
      "Bleu_3: 0.161737\n",
      "Bleu_4: 0.122189\n",
      "METEOR: 0.209194\n",
      "ROUGE_L: 0.345015\n",
      "CIDEr: 1.304266\n"
     ]
    }
   ],
   "source": [
    "#evaluate fine-tuned model\n",
    "!nlg-eval --hypothesis=hypothesis_t5-base-qg-hl_t5_tweet_automatic.txt --references=data/tweet_dev_automatic_reference.txt --no-skipthoughts --no-glove "
   ]
  },
  {
   "cell_type": "code",
   "execution_count": 19,
   "metadata": {
    "colab": {
     "base_uri": "https://localhost:8080/",
     "height": 119
    },
    "colab_type": "code",
    "id": "2wlKrV4EzUnB",
    "outputId": "afc04620-a657-48ce-a7e3-e47646f27fab"
   },
   "outputs": [
    {
     "name": "stdout",
     "output_type": "stream",
     "text": [
      "references_tw.txt                       tweet_dev_automatic_reference.txt\n",
      "references.txt                          \u001b[0m\u001b[01;34mtweet_multitask\u001b[0m/\n",
      "\u001b[01;34msquad_multitask\u001b[0m/                        \u001b[01;34mtweet_multitask_old\u001b[0m/\n",
      "train_data_qg_hl_t5_sq.pt               valid_data_qg_hl_t5_sq.pt\n",
      "train_data_qg_hl_t5_tweet_automatic.pt  valid_data_qg_hl_t5_tweet_automatic.pt\n",
      "train_data_qg_hl_t5_tw.pt               valid_data_qg_hl_t5_tw.pt\n"
     ]
    }
   ],
   "source": [
    "ls data"
   ]
  }
 ],
 "metadata": {
  "accelerator": "GPU",
  "colab": {
   "collapsed_sections": [],
   "name": "tweet_question_generation_NOW.ipynb",
   "provenance": []
  },
  "kernelspec": {
   "display_name": "Python 3",
   "language": "python",
   "name": "python3"
  },
  "language_info": {
   "codemirror_mode": {
    "name": "ipython",
    "version": 3
   },
   "file_extension": ".py",
   "mimetype": "text/x-python",
   "name": "python",
   "nbconvert_exporter": "python",
   "pygments_lexer": "ipython3",
   "version": "3.7.3"
  }
 },
 "nbformat": 4,
 "nbformat_minor": 1
}
